{
 "cells": [
  {
   "cell_type": "code",
   "execution_count": 38,
   "id": "ca938729-092b-43f2-a78e-aa067595c0fa",
   "metadata": {},
   "outputs": [],
   "source": [
    "#importing the required libraries\n",
    "import cv2\n",
    "import face_recognition"
   ]
  },
  {
   "cell_type": "code",
   "execution_count": 64,
   "id": "f68704cd-8eb6-412c-b741-ad59ffe908e8",
   "metadata": {},
   "outputs": [],
   "source": [
    "#loading the image to detect\n",
    "original_image = cv2.imread('wer/bersama.jpg')\n"
   ]
  },
  {
   "cell_type": "code",
   "execution_count": 67,
   "id": "1bc5d5c8-4b8e-442f-b3e0-0d447097900f",
   "metadata": {},
   "outputs": [
    {
     "ename": "FileNotFoundError",
     "evalue": "[Errno 2] No such file or directory: 'johar.jpg'",
     "output_type": "error",
     "traceback": [
      "\u001b[1;31m---------------------------------------------------------------------------\u001b[0m",
      "\u001b[1;31mFileNotFoundError\u001b[0m                         Traceback (most recent call last)",
      "\u001b[1;32m~\\AppData\\Local\\Temp\\ipykernel_3188\\1361871320.py\u001b[0m in \u001b[0;36m<cell line: 2>\u001b[1;34m()\u001b[0m\n\u001b[0;32m      1\u001b[0m \u001b[1;31m#load the sample images and get the 128 face embeddings from them\u001b[0m\u001b[1;33m\u001b[0m\u001b[1;33m\u001b[0m\u001b[0m\n\u001b[1;32m----> 2\u001b[1;33m \u001b[0mjohar_image\u001b[0m \u001b[1;33m=\u001b[0m \u001b[0mface_recognition\u001b[0m\u001b[1;33m.\u001b[0m\u001b[0mload_image_file\u001b[0m\u001b[1;33m(\u001b[0m\u001b[1;34m'johar.jpg'\u001b[0m\u001b[1;33m)\u001b[0m\u001b[1;33m\u001b[0m\u001b[1;33m\u001b[0m\u001b[0m\n\u001b[0m\u001b[0;32m      3\u001b[0m \u001b[0mjohar_face_encodings\u001b[0m \u001b[1;33m=\u001b[0m \u001b[0mface_recognition\u001b[0m\u001b[1;33m.\u001b[0m\u001b[0mface_encodings\u001b[0m\u001b[1;33m(\u001b[0m\u001b[0mjohar_image\u001b[0m\u001b[1;33m)\u001b[0m\u001b[1;33m[\u001b[0m\u001b[1;36m0\u001b[0m\u001b[1;33m]\u001b[0m\u001b[1;33m\u001b[0m\u001b[1;33m\u001b[0m\u001b[0m\n",
      "\u001b[1;32mC:\\WPy64-31040\\python-3.10.4.amd64\\lib\\site-packages\\face_recognition\\api.py\u001b[0m in \u001b[0;36mload_image_file\u001b[1;34m(file, mode)\u001b[0m\n\u001b[0;32m     84\u001b[0m     \u001b[1;33m:\u001b[0m\u001b[1;32mreturn\u001b[0m\u001b[1;33m:\u001b[0m \u001b[0mimage\u001b[0m \u001b[0mcontents\u001b[0m \u001b[1;32mas\u001b[0m \u001b[0mnumpy\u001b[0m \u001b[0marray\u001b[0m\u001b[1;33m\u001b[0m\u001b[1;33m\u001b[0m\u001b[0m\n\u001b[0;32m     85\u001b[0m     \"\"\"\n\u001b[1;32m---> 86\u001b[1;33m     \u001b[0mim\u001b[0m \u001b[1;33m=\u001b[0m \u001b[0mPIL\u001b[0m\u001b[1;33m.\u001b[0m\u001b[0mImage\u001b[0m\u001b[1;33m.\u001b[0m\u001b[0mopen\u001b[0m\u001b[1;33m(\u001b[0m\u001b[0mfile\u001b[0m\u001b[1;33m)\u001b[0m\u001b[1;33m\u001b[0m\u001b[1;33m\u001b[0m\u001b[0m\n\u001b[0m\u001b[0;32m     87\u001b[0m     \u001b[1;32mif\u001b[0m \u001b[0mmode\u001b[0m\u001b[1;33m:\u001b[0m\u001b[1;33m\u001b[0m\u001b[1;33m\u001b[0m\u001b[0m\n\u001b[0;32m     88\u001b[0m         \u001b[0mim\u001b[0m \u001b[1;33m=\u001b[0m \u001b[0mim\u001b[0m\u001b[1;33m.\u001b[0m\u001b[0mconvert\u001b[0m\u001b[1;33m(\u001b[0m\u001b[0mmode\u001b[0m\u001b[1;33m)\u001b[0m\u001b[1;33m\u001b[0m\u001b[1;33m\u001b[0m\u001b[0m\n",
      "\u001b[1;32mC:\\WPy64-31040\\python-3.10.4.amd64\\lib\\site-packages\\PIL\\Image.py\u001b[0m in \u001b[0;36mopen\u001b[1;34m(fp, mode, formats)\u001b[0m\n\u001b[0;32m   3066\u001b[0m \u001b[1;33m\u001b[0m\u001b[0m\n\u001b[0;32m   3067\u001b[0m     \u001b[1;32mif\u001b[0m \u001b[0mfilename\u001b[0m\u001b[1;33m:\u001b[0m\u001b[1;33m\u001b[0m\u001b[1;33m\u001b[0m\u001b[0m\n\u001b[1;32m-> 3068\u001b[1;33m         \u001b[0mfp\u001b[0m \u001b[1;33m=\u001b[0m \u001b[0mbuiltins\u001b[0m\u001b[1;33m.\u001b[0m\u001b[0mopen\u001b[0m\u001b[1;33m(\u001b[0m\u001b[0mfilename\u001b[0m\u001b[1;33m,\u001b[0m \u001b[1;34m\"rb\"\u001b[0m\u001b[1;33m)\u001b[0m\u001b[1;33m\u001b[0m\u001b[1;33m\u001b[0m\u001b[0m\n\u001b[0m\u001b[0;32m   3069\u001b[0m         \u001b[0mexclusive_fp\u001b[0m \u001b[1;33m=\u001b[0m \u001b[1;32mTrue\u001b[0m\u001b[1;33m\u001b[0m\u001b[1;33m\u001b[0m\u001b[0m\n\u001b[0;32m   3070\u001b[0m \u001b[1;33m\u001b[0m\u001b[0m\n",
      "\u001b[1;31mFileNotFoundError\u001b[0m: [Errno 2] No such file or directory: 'johar.jpg'"
     ]
    }
   ],
   "source": [
    "#load the sample images and get the 128 face embeddings from them\n",
    "johar_image = face_recognition.load_image_file('johar.jpg')\n",
    "johar_face_encodings = face_recognition.face_encodings(johar_image)[0]\n"
   ]
  },
  {
   "cell_type": "code",
   "execution_count": 41,
   "id": "b8a5e550-294b-4151-ac3f-7c330adecf10",
   "metadata": {},
   "outputs": [],
   "source": [
    "trump_image = face_recognition.load_image_file('urip.jpg')\n",
    "trump_face_encodings = face_recognition.face_encodings(trump_image)[0]"
   ]
  },
  {
   "cell_type": "code",
   "execution_count": 58,
   "id": "86294386-a36e-49c0-8f7b-928ce9ba2a9c",
   "metadata": {},
   "outputs": [],
   "source": [
    "#save the encodings and the corresponding labels in seperate arrays in the same order\n",
    "known_face_encodings = [modi_face_encodings, trump_face_encodings]\n",
    "known_face_names = [\"johar\"]"
   ]
  },
  {
   "cell_type": "code",
   "execution_count": 59,
   "id": "146fee08-5f96-430f-8860-4ecbd5ebc2cf",
   "metadata": {},
   "outputs": [],
   "source": [
    "#load the unknown image to recognize faces in it\n",
    "image_to_recognize = face_recognition.load_image_file('bersama.jpg')\n"
   ]
  },
  {
   "cell_type": "code",
   "execution_count": 60,
   "id": "a5ed3bdd-008e-4c40-a938-6e3b81b3ec09",
   "metadata": {},
   "outputs": [],
   "source": [
    "#detect all faces in the image\n",
    "#arguments are image,no_of_times_to_upsample, model\n",
    "all_face_locations = face_recognition.face_locations(image_to_recognize,model='hog')\n",
    "#detect face encodings for all the faces detected\n",
    "all_face_encodings = face_recognition.face_encodings(image_to_recognize,all_face_locations)"
   ]
  },
  {
   "cell_type": "code",
   "execution_count": 61,
   "id": "e57187c4-d7bf-4b90-a1ef-691f5fb11319",
   "metadata": {},
   "outputs": [
    {
     "name": "stdout",
     "output_type": "stream",
     "text": [
      "There are 2 no of faces in this image\n"
     ]
    }
   ],
   "source": [
    "#print the number of faces detected\n",
    "print('There are {} no of faces in this image'.format(len(all_face_locations)))"
   ]
  },
  {
   "cell_type": "code",
   "execution_count": 63,
   "id": "915c94ee-b781-4642-82f5-787a674388fe",
   "metadata": {},
   "outputs": [
    {
     "data": {
      "text/plain": [
       "-1"
      ]
     },
     "execution_count": 63,
     "metadata": {},
     "output_type": "execute_result"
    }
   ],
   "source": [
    "#looping through the face locations and the face embeddings\n",
    "for current_face_location,current_face_encoding in zip(all_face_locations,all_face_encodings):\n",
    "    #splitting the tuple to get the four position values of current face\n",
    "    top_pos,right_pos,bottom_pos,left_pos = current_face_location\n",
    "    \n",
    "    \n",
    "    #find all the matches and get the list of matches\n",
    "    all_matches = face_recognition.compare_faces(known_face_encodings, current_face_encoding)\n",
    "   \n",
    "    #string to hold the label\n",
    "    name_of_person = 'Unknown face'\n",
    "    \n",
    "    #check if the all_matches have at least one item\n",
    "    #if yes, get the index number of face that is located in the first index of all_matches\n",
    "    #get the name corresponding to the index number and save it in name_of_person\n",
    "    if True in all_matches:\n",
    "        first_match_index = all_matches.index(True)\n",
    "        name_of_person = known_face_names[first_match_index]\n",
    "    \n",
    "    #draw rectangle around the face    \n",
    "    cv2.rectangle(original_image,(left_pos,top_pos),(right_pos,bottom_pos),(255,0,0),2)\n",
    "    \n",
    "    #display the name as text in the image\n",
    "    font = cv2.FONT_HERSHEY_DUPLEX\n",
    "    cv2.putText(original_image, name_of_person, (left_pos,bottom_pos), font, 0.5, (255,255,255),1)\n",
    "    \n",
    "    #display the image\n",
    "    cv2.imshow(\"Faces Identified\",original_image)\n",
    "cv2.waitKey(0); cv2.destroyAllWindows(); cv2.waitKey(1)"
   ]
  }
 ],
 "metadata": {
  "kernelspec": {
   "display_name": "Python 3 (ipykernel)",
   "language": "python",
   "name": "python3"
  },
  "language_info": {
   "codemirror_mode": {
    "name": "ipython",
    "version": 3
   },
   "file_extension": ".py",
   "mimetype": "text/x-python",
   "name": "python",
   "nbconvert_exporter": "python",
   "pygments_lexer": "ipython3",
   "version": "3.10.4"
  }
 },
 "nbformat": 4,
 "nbformat_minor": 5
}
